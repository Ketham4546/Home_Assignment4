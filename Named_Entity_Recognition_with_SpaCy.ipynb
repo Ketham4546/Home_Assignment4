{
  "nbformat": 4,
  "nbformat_minor": 0,
  "metadata": {
    "colab": {
      "provenance": []
    },
    "kernelspec": {
      "name": "python3",
      "display_name": "Python 3"
    },
    "language_info": {
      "name": "python"
    }
  },
  "cells": [
    {
      "cell_type": "code",
      "execution_count": 1,
      "metadata": {
        "colab": {
          "base_uri": "https://localhost:8080/"
        },
        "id": "B4pTtCr-o0Uc",
        "outputId": "75725224-1709-4033-ffb7-863ad522fa5c"
      },
      "outputs": [
        {
          "output_type": "stream",
          "name": "stdout",
          "text": [
            "Text: Barack Obama, Label: PERSON, Start: 0, End: 12\n",
            "Text: 44th, Label: ORDINAL, Start: 27, End: 31\n",
            "Text: the United States, Label: GPE, Start: 45, End: 62\n",
            "Text: the Nobel Peace Prize, Label: WORK_OF_ART, Start: 71, End: 92\n",
            "Text: 2009, Label: DATE, Start: 96, End: 100\n"
          ]
        }
      ],
      "source": [
        "import spacy\n",
        "\n",
        "# Load the English model\n",
        "nlp = spacy.load(\"en_core_web_sm\")\n",
        "\n",
        "# Input sentence\n",
        "sentence = \"Barack Obama served as the 44th President of the United States and won the Nobel Peace Prize in 2009.\"\n",
        "\n",
        "# Process the text\n",
        "doc = nlp(sentence)\n",
        "\n",
        "# Print named entities\n",
        "for ent in doc.ents:\n",
        "    print(f\"Text: {ent.text}, Label: {ent.label_}, Start: {ent.start_char}, End: {ent.end_char}\")\n",
        "\n",
        ""
      ]
    },
    {
      "cell_type": "code",
      "source": [
        "#1. How does NER differ from POS tagging in NLP? NER (Named Entity Recognition) identifies and classifies named entities (like people, places, dates). POS tagging (Part-of-Speech tagging) labels each word by its grammatical role (noun, verb, adjective, etc.).\n",
        "\n",
        "#2. Two real-world applications of NER: Financial News Analysis: Extracts company names, stock symbols, and dates for market insights.\n",
        "\n",
        "#Search Engines: Recognizes entities like locations or products to improve search relevance and ranking."
      ],
      "metadata": {
        "id": "DnP3f5wco17u"
      },
      "execution_count": 7,
      "outputs": []
    },
    {
      "cell_type": "code",
      "source": [],
      "metadata": {
        "id": "8TIsUlXspErx"
      },
      "execution_count": null,
      "outputs": []
    }
  ]
}